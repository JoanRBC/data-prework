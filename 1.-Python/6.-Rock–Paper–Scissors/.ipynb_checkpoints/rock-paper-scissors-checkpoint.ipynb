{
 "cells": [
  {
   "cell_type": "markdown",
   "metadata": {},
   "source": [
    "<img src=\"https://bit.ly/2VnXWr2\" width=\"100\" align=\"left\">"
   ]
  },
  {
   "cell_type": "markdown",
   "metadata": {},
   "source": [
    "# Rock, Paper & Scissors\n",
    "\n",
    "Let's play the famous game against our computer. You can check the rules [here](https://en.wikipedia.org/wiki/Rock%E2%80%93paper%E2%80%93scissors). \n",
    "\n",
    "## Task\n",
    "Create a program that imitates the playability of the well known game of rock, paper, scissors. Follow the guidelines provided.\n",
    "\n",
    "## Tools\n",
    "1. Loop: **for/while**\n",
    "2. Functions: **input(), print()...**\n",
    "3. Conditional statements: **if, elif, else**\n",
    "4. Definition of functions. Modular programming\n",
    "5. Import modules\n",
    "\n",
    "**To solve this challenge, the use of functions is recommended.**\n",
    "\n",
    "#### 1. Import the choice function of the random module."
   ]
  },
  {
   "cell_type": "code",
   "execution_count": 1,
   "metadata": {},
   "outputs": [],
   "source": [
    "import random"
   ]
  },
  {
   "cell_type": "markdown",
   "metadata": {},
   "source": [
    "#### 2. Create a list that includes the 3 possible gesture options of the game: 'rock', 'paper' or 'scissors'. Store the list in a variable called `gestures`."
   ]
  },
  {
   "cell_type": "code",
   "execution_count": 2,
   "metadata": {},
   "outputs": [],
   "source": [
    "gestures = [\"rock\", \"paper\", \"scissors\"]"
   ]
  },
  {
   "cell_type": "markdown",
   "metadata": {},
   "source": [
    "#### 3. Create a variable called `n_rounds` to store the maximum number of rounds to play in a game. \n",
    "Remember that the number of rounds must be odd: 1, 3, 5, ..."
   ]
  },
  {
   "cell_type": "code",
   "execution_count": 3,
   "metadata": {},
   "outputs": [],
   "source": [
    "n_rounds = 5"
   ]
  },
  {
   "cell_type": "markdown",
   "metadata": {},
   "source": [
    "#### 4. Create a variable called `rounds_to_win` to store the number of rounds that a player must win to win the game.\n",
    "**Hint**: the value stored in `rounds_to_win` depends on the value of `n_rounds`. "
   ]
  },
  {
   "cell_type": "code",
   "execution_count": 4,
   "metadata": {},
   "outputs": [],
   "source": [
    "rounds_to_win = 3"
   ]
  },
  {
   "cell_type": "markdown",
   "metadata": {},
   "source": [
    "#### 5. Create two variables to store the number of rounds that the computer and the player have won. Call these variables `cpu_score` and `player_score`."
   ]
  },
  {
   "cell_type": "code",
   "execution_count": 5,
   "metadata": {},
   "outputs": [],
   "source": [
    "#Used these variables in exercise 9."
   ]
  },
  {
   "cell_type": "markdown",
   "metadata": {},
   "source": [
    "#### 6. Define a function that randomly returns one of the 3 gesture options.\n",
    "You will use this function to simulate the gesture choice of the computer. "
   ]
  },
  {
   "cell_type": "code",
   "execution_count": 6,
   "metadata": {},
   "outputs": [
    {
     "data": {
      "text/plain": [
       "'paper'"
      ]
     },
     "execution_count": 6,
     "metadata": {},
     "output_type": "execute_result"
    }
   ],
   "source": [
    "gestures = [\"rock\", \"paper\", \"scissors\"]\n",
    "\n",
    "import random \n",
    "def randomfunc(list):\n",
    "    random_gesture = random.choice(list)\n",
    "    return random_gesture\n",
    "\n",
    "randomfunc(gestures)"
   ]
  },
  {
   "cell_type": "markdown",
   "metadata": {},
   "source": [
    "#### 7. Define a function that asks the player which is the gesture he or she wants to show: 'rock', 'paper' or 'scissors'.\n",
    "The player should only be allowed to choose one of the 3 gesture options. If the player's choice is not rock, paper or scissors, keep asking until it is."
   ]
  },
  {
   "cell_type": "code",
   "execution_count": 7,
   "metadata": {},
   "outputs": [
    {
     "name": "stdout",
     "output_type": "stream",
     "text": [
      "which gesture do you pick?: rock\n"
     ]
    },
    {
     "data": {
      "text/plain": [
       "'rock'"
      ]
     },
     "execution_count": 7,
     "metadata": {},
     "output_type": "execute_result"
    }
   ],
   "source": [
    "def your_choice():\n",
    "    chosen_gesture = False\n",
    "    while chosen_gesture == False:\n",
    "        chosen_gesture = input(\"which gesture do you pick?: \")\n",
    "        if chosen_gesture == \"rock\" or chosen_gesture == \"paper\" or chosen_gesture == \"scissors\":\n",
    "            pass\n",
    "        else:\n",
    "            print(\"that's not a valid pick, try again pls: \")\n",
    "            chosen_gesture = False\n",
    "    return chosen_gesture\n",
    "    \n",
    "your_choice()  "
   ]
  },
  {
   "cell_type": "markdown",
   "metadata": {},
   "source": [
    "#### 8. Define a function that checks who won a round. \n",
    "The function should return 0 if there is a tie, 1 if the computer wins and 2 if the player wins."
   ]
  },
  {
   "cell_type": "code",
   "execution_count": 8,
   "metadata": {},
   "outputs": [
    {
     "name": "stdout",
     "output_type": "stream",
     "text": [
      "which gesture do you pick?: rock\n",
      "PC chose paper  and Player chose rock\n"
     ]
    },
    {
     "data": {
      "text/plain": [
       "1"
      ]
     },
     "execution_count": 8,
     "metadata": {},
     "output_type": "execute_result"
    }
   ],
   "source": [
    "def game(PC , Player):\n",
    "    print(\"PC chose\", PC,\" and Player chose\", Player)\n",
    "    if PC == Player:\n",
    "        return 0\n",
    "    elif PC == \"rock\":\n",
    "        if Player == \"paper\":\n",
    "            return 2\n",
    "        elif Player ==\"scissors\":\n",
    "            return 1\n",
    "    elif PC == \"paper\":\n",
    "        if Player == \"scissors\":\n",
    "            return 2\n",
    "        elif Player == \"rock\":\n",
    "            return 1\n",
    "    elif PC == \"scissors\":\n",
    "        if Player == \"rock\":\n",
    "            return 2\n",
    "        elif Player == \"paper\":\n",
    "            return 1\n",
    "\n",
    "game(randomfunc(gestures), your_choice())       \n",
    "    "
   ]
  },
  {
   "cell_type": "markdown",
   "metadata": {},
   "source": [
    "#### 9. Define a function that prints the choice of the computer, the choice of the player and a message that announces who won the current round. \n",
    "You should also use this function to update the variables that count the number of rounds that the computer and the player have won. The score of the winner increases by one point. If there is a tie, the score does not increase."
   ]
  },
  {
   "cell_type": "code",
   "execution_count": 14,
   "metadata": {},
   "outputs": [
    {
     "name": "stdout",
     "output_type": "stream",
     "text": [
      "which gesture do you pick?: rock\n",
      "PC chose scissors  and Player chose rock\n",
      "Player wins\n",
      "which gesture do you pick?: rock\n",
      "PC chose scissors  and Player chose rock\n",
      "Player wins\n",
      "which gesture do you pick?: paper\n",
      "PC chose paper  and Player chose paper\n",
      "Draw\n",
      "which gesture do you pick?: rock\n",
      "PC chose rock  and Player chose rock\n",
      "Draw\n",
      "which gesture do you pick?: rock\n",
      "PC chose scissors  and Player chose rock\n",
      "Player wins\n",
      "Player wins!\n"
     ]
    }
   ],
   "source": [
    "def round_winner():\n",
    "    n_rounds = 0\n",
    "    rounds_to_win_player = 0\n",
    "    rounds_to_win_PC = 0\n",
    "    cpu_score = 0\n",
    "    player_score = 0\n",
    "    \n",
    "    while rounds_to_win_player < 3 and rounds_to_win_PC < 3 and n_rounds < 7:\n",
    "        \n",
    "        result = game(randomfunc(gestures), your_choice())\n",
    "        if result == 0:\n",
    "            print(\"Draw\")\n",
    "        elif result == 1:\n",
    "            print(\"PC wins\")\n",
    "            cpu_score += 1\n",
    "            rounds_to_win_PC += 1\n",
    "        elif result == 2:\n",
    "            print(\"Player wins\")\n",
    "            player_score += 1\n",
    "            rounds_to_win_player += 1\n",
    "        n_rounds += 1\n",
    "       \n",
    "    if cpu_score == player_score:\n",
    "        print(\"Tie game!\")\n",
    "    elif cpu_score < player_score:\n",
    "        print(\"Player wins!\")\n",
    "    elif cpu_score > player_score:\n",
    "        print(\"PC wins!\")\n",
    "    \n",
    "round_winner()"
   ]
  },
  {
   "cell_type": "markdown",
   "metadata": {},
   "source": [
    "#### 10. Now it's time to code the execution of the game using the functions and variables you defined above. \n",
    "\n",
    "First, create a loop structure that repeats while no player reaches the minimum score necessary to win and the number of rounds is less than the maximum number of rounds to play in a game.  \n",
    "\n",
    "Inside the loop, use the functions and variables above to create the execution of a round: ask for the player's choice, generate the random choice of the computer, show the round results, update the scores, etc. "
   ]
  },
  {
   "cell_type": "code",
   "execution_count": null,
   "metadata": {},
   "outputs": [],
   "source": [
    "#I added this code in the last function"
   ]
  },
  {
   "cell_type": "markdown",
   "metadata": {},
   "source": [
    "#### 11. Print the winner of the game based on who won more rounds.\n",
    "Remember that the game might be tied. "
   ]
  },
  {
   "cell_type": "code",
   "execution_count": null,
   "metadata": {},
   "outputs": [],
   "source": [
    "#Also added this code in the last function"
   ]
  },
  {
   "cell_type": "markdown",
   "metadata": {},
   "source": [
    "# Bonus: Rock, Paper, Scissors, Lizard & Spock\n",
    "![](images/rpsls.jpg)\n",
    "\n",
    "In this challenge, you need to improve the previous game by adding two new options. To know more about the rules of the improved version of rock, paper, scissors, check this [link](http://www.samkass.com/theories/RPSSL.html). \n",
    "\n",
    "In addition, you will also need to improve how the game interacts with the player: the number of rounds to play, which must be an odd number, will be requested to the user until a valid number is entered. Define a new function to make that request.\n",
    "\n",
    "**Hint**: Try to reuse the code that you already coded in the previous challenge. If your code is efficient, this bonus will only consist of simple modifications to the original game."
   ]
  },
  {
   "cell_type": "code",
   "execution_count": 18,
   "metadata": {},
   "outputs": [
    {
     "data": {
      "text/plain": [
       "'Spock'"
      ]
     },
     "execution_count": 18,
     "metadata": {},
     "output_type": "execute_result"
    }
   ],
   "source": [
    "import random\n",
    "gestures = [\"rock\", \"paper\", \"scissors\", \"lizard\", \"Spock\"]\n",
    "\n",
    "#Função do PC:\n",
    "def randomfunc(list):\n",
    "    random_gesture = random.choice(list)\n",
    "    return random_gesture\n",
    "\n",
    "randomfunc(gestures)"
   ]
  },
  {
   "cell_type": "code",
   "execution_count": 19,
   "metadata": {},
   "outputs": [
    {
     "name": "stdout",
     "output_type": "stream",
     "text": [
      "which gesture do you pick?: rock\n"
     ]
    },
    {
     "data": {
      "text/plain": [
       "'rock'"
      ]
     },
     "execution_count": 19,
     "metadata": {},
     "output_type": "execute_result"
    }
   ],
   "source": [
    "#Escolha do jogador:\n",
    "def your_choice():\n",
    "    chosen_gesture = False\n",
    "    while chosen_gesture == False:\n",
    "        chosen_gesture = input(\"which gesture do you pick?: \")\n",
    "        if chosen_gesture == \"rock\" or chosen_gesture == \"paper\" or chosen_gesture == \"scissors\" or chosen_gesture == \"lizard\" or chosen_gesture == \"Spock\":\n",
    "            pass\n",
    "        else:\n",
    "            print(\"that's not a valid pick, try again pls: \")\n",
    "            chosen_gesture = False\n",
    "    return chosen_gesture\n",
    "    \n",
    "your_choice()  "
   ]
  },
  {
   "cell_type": "code",
   "execution_count": 28,
   "metadata": {},
   "outputs": [
    {
     "name": "stdout",
     "output_type": "stream",
     "text": [
      "which gesture do you pick?: lizard\n",
      "PC chose Spock  and Player chose lizard\n"
     ]
    },
    {
     "data": {
      "text/plain": [
       "2"
      ]
     },
     "execution_count": 28,
     "metadata": {},
     "output_type": "execute_result"
    }
   ],
   "source": [
    "#Para ver quem ganha:\n",
    "def game(PC , Player):\n",
    "    print(\"PC chose\", PC,\" and Player chose\", Player)\n",
    "    if PC == Player:\n",
    "        return 0\n",
    "    elif PC == \"rock\":\n",
    "        if Player == \"paper\" or Player == \"Spock\":\n",
    "            return 2\n",
    "        elif Player ==\"scissors\" or Player == \"lizard\":\n",
    "            return 1\n",
    "       \n",
    "    elif PC == \"paper\":\n",
    "        if Player == \"scissors\" or Player == \"lizard\":\n",
    "            return 2\n",
    "        elif Player == \"rock\" or Player == \"Spock\":\n",
    "            return 1\n",
    "        \n",
    "    elif PC == \"scissors\":\n",
    "        if Player == \"rock\" or Player == \"Spock\":\n",
    "            return 2\n",
    "        elif Player == \"paper\" or Player == \"lizard\":\n",
    "            return 1\n",
    "        \n",
    "    elif PC == \"lizard\":\n",
    "        if Player == \"rock\" or Player == \"scissors\":\n",
    "            return 2\n",
    "        elif Player == \"paper\" or Player == \"Spock\":\n",
    "            return 1\n",
    "        \n",
    "    elif PC == \"Spock\":\n",
    "        if Player == \"lizard\" or Player == \"paper\":\n",
    "            return 2\n",
    "        elif Player == \"rock\" or Player == \"scissors\":\n",
    "            return 1\n",
    "\n",
    "game(randomfunc(gestures), your_choice())       \n",
    "    "
   ]
  },
  {
   "cell_type": "code",
   "execution_count": 29,
   "metadata": {},
   "outputs": [
    {
     "name": "stdout",
     "output_type": "stream",
     "text": [
      "which gesture do you pick?: Spock\n",
      "PC chose paper  and Player chose Spock\n",
      "PC wins\n",
      "which gesture do you pick?: rock\n",
      "PC chose paper  and Player chose rock\n",
      "PC wins\n",
      "which gesture do you pick?: paper\n",
      "PC chose Spock  and Player chose paper\n",
      "Player wins\n",
      "which gesture do you pick?: rock\n",
      "PC chose lizard  and Player chose rock\n",
      "Player wins\n",
      "which gesture do you pick?: paper\n",
      "PC chose Spock  and Player chose paper\n",
      "Player wins\n",
      "Player wins!\n"
     ]
    }
   ],
   "source": [
    "#Defining the function:\n",
    "def round_winner():\n",
    "    n_rounds = 0\n",
    "    rounds_to_win_player = 0\n",
    "    rounds_to_win_PC = 0\n",
    "    cpu_score = 0\n",
    "    player_score = 0\n",
    "    \n",
    "    while rounds_to_win_player < 3 and rounds_to_win_PC < 3 and n_rounds < 7:\n",
    "        \n",
    "        result = game(randomfunc(gestures), your_choice())\n",
    "        if result == 0:\n",
    "            print(\"Draw\")\n",
    "        elif result == 1:\n",
    "            print(\"PC wins\")\n",
    "            cpu_score += 1\n",
    "            rounds_to_win_PC += 1\n",
    "        elif result == 2:\n",
    "            print(\"Player wins\")\n",
    "            player_score += 1\n",
    "            rounds_to_win_player += 1\n",
    "        n_rounds += 1\n",
    "       \n",
    "    if cpu_score == player_score:\n",
    "        print(\"Tie game!\")\n",
    "    elif cpu_score < player_score:\n",
    "        print(\"Player wins!\")\n",
    "    elif cpu_score > player_score:\n",
    "        print(\"PC wins!\")\n",
    "    \n",
    "round_winner()"
   ]
  },
  {
   "cell_type": "code",
   "execution_count": null,
   "metadata": {},
   "outputs": [],
   "source": []
  },
  {
   "cell_type": "code",
   "execution_count": null,
   "metadata": {},
   "outputs": [],
   "source": []
  },
  {
   "cell_type": "code",
   "execution_count": null,
   "metadata": {},
   "outputs": [],
   "source": []
  },
  {
   "cell_type": "code",
   "execution_count": null,
   "metadata": {},
   "outputs": [],
   "source": []
  },
  {
   "cell_type": "code",
   "execution_count": null,
   "metadata": {},
   "outputs": [],
   "source": []
  }
 ],
 "metadata": {
  "kernelspec": {
   "display_name": "Python 3",
   "language": "python",
   "name": "python3"
  },
  "language_info": {
   "codemirror_mode": {
    "name": "ipython",
    "version": 3
   },
   "file_extension": ".py",
   "mimetype": "text/x-python",
   "name": "python",
   "nbconvert_exporter": "python",
   "pygments_lexer": "ipython3",
   "version": "3.7.6"
  }
 },
 "nbformat": 4,
 "nbformat_minor": 2
}
